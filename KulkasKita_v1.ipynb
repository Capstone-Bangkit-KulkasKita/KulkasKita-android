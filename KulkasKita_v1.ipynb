{
  "nbformat": 4,
  "nbformat_minor": 0,
  "metadata": {
    "colab": {
      "provenance": [],
      "gpuType": "T4"
    },
    "kernelspec": {
      "name": "python3",
      "display_name": "Python 3"
    },
    "language_info": {
      "name": "python"
    },
    "accelerator": "TPU"
  },
  "cells": [
    {
      "cell_type": "code",
      "source": [
        "import tensorflow as tf\n",
        "import numpy as np\n",
        "import matplotlib.pyplot as plt\n",
        "import cv2\n",
        "import pathlib\n",
        "\n",
        "from tensorflow.keras.preprocessing.image import ImageDataGenerator\n",
        "from keras.optimizers import Adam\n",
        "from sklearn.metrics import classification_report,confusion_matrix"
      ],
      "metadata": {
        "id": "UTiTKREa19-g"
      },
      "execution_count": 2,
      "outputs": []
    },
    {
      "cell_type": "markdown",
      "source": [
        "## Data Preparing"
      ],
      "metadata": {
        "id": "vIzIYS2O1qNg"
      }
    },
    {
      "cell_type": "code",
      "execution_count": 3,
      "metadata": {
        "id": "GPTixx_K1T8B",
        "colab": {
          "base_uri": "https://localhost:8080/"
        },
        "outputId": "8b8387b4-0407-487b-b537-6efd95695dfa"
      },
      "outputs": [
        {
          "output_type": "stream",
          "name": "stdout",
          "text": [
            "4038\n"
          ]
        }
      ],
      "source": [
        "data_dir = '/content/drive/MyDrive/train'\n",
        "\n",
        "pthlib = pathlib.Path(data_dir)\n",
        "image_count = len(list(pthlib.glob('*/*.jpg')))\n",
        "print(image_count)"
      ]
    },
    {
      "cell_type": "code",
      "source": [
        "datagen = ImageDataGenerator(\n",
        "  rescale = 1/255,\n",
        "  rotation_range=30,\n",
        "  brightness_range=[0.5,1.5],\n",
        "  zoom_range=0.2,\n",
        "  horizontal_flip=True,\n",
        "  vertical_flip=True,\n",
        "  width_shift_range=0.2,\n",
        "  height_shift_range=0.2,\n",
        "  validation_split=0.2  \n",
        ")"
      ],
      "metadata": {
        "id": "H5jNIVpN2_cW"
      },
      "execution_count": 4,
      "outputs": []
    },
    {
      "cell_type": "code",
      "source": [
        "train_generator = datagen.flow_from_directory(\n",
        "    data_dir,\n",
        "    target_size=(128,128),\n",
        "    batch_size=32,\n",
        "    class_mode='categorical',\n",
        "    subset='training'\n",
        ")\n",
        "val_generator = datagen.flow_from_directory(\n",
        "    data_dir,\n",
        "    target_size=(128,128),\n",
        "    batch_size=32,\n",
        "    class_mode='categorical',\n",
        "    subset='validation',\n",
        "    shuffle=False\n",
        ")"
      ],
      "metadata": {
        "colab": {
          "base_uri": "https://localhost:8080/"
        },
        "id": "GZE0baVr01he",
        "outputId": "4c7a71bd-e751-4d86-f143-5974e74c23e4"
      },
      "execution_count": 5,
      "outputs": [
        {
          "output_type": "stream",
          "name": "stdout",
          "text": [
            "Found 3241 images belonging to 25 classes.\n",
            "Found 798 images belonging to 25 classes.\n"
          ]
        }
      ]
    },
    {
      "cell_type": "markdown",
      "source": [
        "## Model Building"
      ],
      "metadata": {
        "id": "erl_wJ0Y09CP"
      }
    },
    {
      "cell_type": "code",
      "source": [
        "base_model = tf.keras.applications.MobileNetV2(input_shape = (128, 128, 3), include_top = False, weights = \"imagenet\")\n",
        "base_model.trainable = False"
      ],
      "metadata": {
        "colab": {
          "base_uri": "https://localhost:8080/"
        },
        "id": "HVpmnHmK1A0d",
        "outputId": "2571a17e-5ec4-4811-f2fd-8c7a800f55e1"
      },
      "execution_count": 6,
      "outputs": [
        {
          "output_type": "stream",
          "name": "stdout",
          "text": [
            "Downloading data from https://storage.googleapis.com/tensorflow/keras-applications/mobilenet_v2/mobilenet_v2_weights_tf_dim_ordering_tf_kernels_1.0_128_no_top.h5\n",
            "9406464/9406464 [==============================] - 0s 0us/step\n"
          ]
        }
      ]
    },
    {
      "cell_type": "code",
      "source": [
        "model = tf.keras.Sequential([base_model,\n",
        "                                 tf.keras.layers.Flatten(),\n",
        "                                 tf.keras.layers.Dropout(0.4),\n",
        "                                 tf.keras.layers.Dense(512, activation='relu'),\n",
        "                                 tf.keras.layers.Dense(25, activation=\"softmax\")                                     \n",
        "                                ])\n",
        "model.summary()"
      ],
      "metadata": {
        "colab": {
          "base_uri": "https://localhost:8080/"
        },
        "id": "z8ckdxRB1JD9",
        "outputId": "d29df7ae-1668-4ffc-95f5-3414959e79e0"
      },
      "execution_count": 7,
      "outputs": [
        {
          "output_type": "stream",
          "name": "stdout",
          "text": [
            "Model: \"sequential\"\n",
            "_________________________________________________________________\n",
            " Layer (type)                Output Shape              Param #   \n",
            "=================================================================\n",
            " mobilenetv2_1.00_128 (Funct  (None, 4, 4, 1280)       2257984   \n",
            " ional)                                                          \n",
            "                                                                 \n",
            " flatten (Flatten)           (None, 20480)             0         \n",
            "                                                                 \n",
            " dropout (Dropout)           (None, 20480)             0         \n",
            "                                                                 \n",
            " dense (Dense)               (None, 512)               10486272  \n",
            "                                                                 \n",
            " dense_1 (Dense)             (None, 25)                12825     \n",
            "                                                                 \n",
            "=================================================================\n",
            "Total params: 12,757,081\n",
            "Trainable params: 10,499,097\n",
            "Non-trainable params: 2,257,984\n",
            "_________________________________________________________________\n"
          ]
        }
      ]
    },
    {
      "cell_type": "code",
      "source": [
        "from keras.optimizers import Adam\n",
        "opt = Adam(learning_rate=0.001)\n",
        "model.compile(\n",
        "    optimizer=opt,\n",
        "    loss='categorical_crossentropy',\n",
        "    metrics=['accuracy']\n",
        ")\n",
        "\n",
        "result = model.fit(train_generator, steps_per_epoch=train_generator.samples//32, epochs = 20, verbose=1, validation_data=val_generator, validation_steps=val_generator.samples//32)"
      ],
      "metadata": {
        "colab": {
          "base_uri": "https://localhost:8080/"
        },
        "id": "t6tgIEe01Q9A",
        "outputId": "891b4ff8-6be8-4a80-ea3b-35775aa5dd73"
      },
      "execution_count": 8,
      "outputs": [
        {
          "output_type": "stream",
          "name": "stdout",
          "text": [
            "Epoch 1/20\n",
            "101/101 [==============================] - 932s 9s/step - loss: 1.9437 - accuracy: 0.6261 - val_loss: 1.1073 - val_accuracy: 0.6901\n",
            "Epoch 2/20\n",
            "101/101 [==============================] - 130s 1s/step - loss: 0.7190 - accuracy: 0.7850 - val_loss: 0.9341 - val_accuracy: 0.7318\n",
            "Epoch 3/20\n",
            "101/101 [==============================] - 117s 1s/step - loss: 0.6360 - accuracy: 0.8087 - val_loss: 1.1288 - val_accuracy: 0.7214\n",
            "Epoch 4/20\n",
            "101/101 [==============================] - 110s 1s/step - loss: 0.5849 - accuracy: 0.8258 - val_loss: 1.0323 - val_accuracy: 0.7253\n",
            "Epoch 5/20\n",
            "101/101 [==============================] - 112s 1s/step - loss: 0.4497 - accuracy: 0.8585 - val_loss: 0.9812 - val_accuracy: 0.7474\n",
            "Epoch 6/20\n",
            "101/101 [==============================] - 130s 1s/step - loss: 0.4647 - accuracy: 0.8607 - val_loss: 0.9665 - val_accuracy: 0.7461\n",
            "Epoch 7/20\n",
            "101/101 [==============================] - 110s 1s/step - loss: 0.4123 - accuracy: 0.8744 - val_loss: 1.0259 - val_accuracy: 0.7396\n",
            "Epoch 8/20\n",
            "101/101 [==============================] - 108s 1s/step - loss: 0.4047 - accuracy: 0.8769 - val_loss: 0.9876 - val_accuracy: 0.7487\n",
            "Epoch 9/20\n",
            "101/101 [==============================] - 110s 1s/step - loss: 0.3846 - accuracy: 0.8825 - val_loss: 1.0395 - val_accuracy: 0.7539\n",
            "Epoch 10/20\n",
            "101/101 [==============================] - 130s 1s/step - loss: 0.3377 - accuracy: 0.8990 - val_loss: 1.0495 - val_accuracy: 0.7591\n",
            "Epoch 11/20\n",
            "101/101 [==============================] - 108s 1s/step - loss: 0.3316 - accuracy: 0.8975 - val_loss: 1.0655 - val_accuracy: 0.7331\n",
            "Epoch 12/20\n",
            "101/101 [==============================] - 112s 1s/step - loss: 0.2833 - accuracy: 0.9134 - val_loss: 1.0430 - val_accuracy: 0.7435\n",
            "Epoch 13/20\n",
            "101/101 [==============================] - 109s 1s/step - loss: 0.2756 - accuracy: 0.9096 - val_loss: 1.1338 - val_accuracy: 0.7656\n",
            "Epoch 14/20\n",
            "101/101 [==============================] - 112s 1s/step - loss: 0.3124 - accuracy: 0.9040 - val_loss: 1.1126 - val_accuracy: 0.7435\n",
            "Epoch 15/20\n",
            "101/101 [==============================] - 112s 1s/step - loss: 0.3183 - accuracy: 0.9018 - val_loss: 1.2127 - val_accuracy: 0.7383\n",
            "Epoch 16/20\n",
            "101/101 [==============================] - 109s 1s/step - loss: 0.3217 - accuracy: 0.9074 - val_loss: 1.1769 - val_accuracy: 0.7461\n",
            "Epoch 17/20\n",
            "101/101 [==============================] - 112s 1s/step - loss: 0.2812 - accuracy: 0.9146 - val_loss: 1.1132 - val_accuracy: 0.7578\n",
            "Epoch 18/20\n",
            "101/101 [==============================] - 110s 1s/step - loss: 0.2879 - accuracy: 0.9100 - val_loss: 1.2345 - val_accuracy: 0.7409\n",
            "Epoch 19/20\n",
            "101/101 [==============================] - 112s 1s/step - loss: 0.2942 - accuracy: 0.9143 - val_loss: 1.2731 - val_accuracy: 0.7409\n",
            "Epoch 20/20\n",
            "101/101 [==============================] - 131s 1s/step - loss: 0.2767 - accuracy: 0.9159 - val_loss: 1.2670 - val_accuracy: 0.7500\n"
          ]
        }
      ]
    },
    {
      "cell_type": "code",
      "source": [
        "loss = result.history['accuracy']\n",
        "val_loss = result.history['val_accuracy']\n",
        "epochs = range(1,len(loss)+1)\n",
        "\n",
        "import matplotlib.pyplot as plt\n",
        "plt.plot(epochs,loss,'y',label='Training Accuracy')\n",
        "plt.plot(epochs,val_loss,'r',label='Validation Accuracy')\n",
        "plt.title('Training and Validation Accuracy')\n",
        "plt.xlabel('epoch')\n",
        "plt.ylabel('accuracy')\n",
        "plt.legend()\n",
        "plt.show()"
      ],
      "metadata": {
        "colab": {
          "base_uri": "https://localhost:8080/",
          "height": 472
        },
        "id": "Md13OHRZ1XRy",
        "outputId": "225a78e7-6883-4e32-d734-c2313ff1f5af"
      },
      "execution_count": 9,
      "outputs": [
        {
          "output_type": "display_data",
          "data": {
            "text/plain": [
              "<Figure size 640x480 with 1 Axes>"
            ],
            "image/png": "[encoded data removed]"
          },
          "metadata": {}
        }
      ]
    },
    {
      "cell_type": "markdown",
      "source": [
        "## Model Evaluation"
      ],
      "metadata": {
        "id": "LDGON2qvm7de"
      }
    },
    {
      "cell_type": "code",
      "source": [
        "x=np.concatenate([val_generator.next()[0] for i in range(val_generator.__len__())])\n",
        "y=np.concatenate([val_generator.next()[1] for i in range(val_generator.__len__())])\n",
        "print(x.shape)\n",
        "print(y.shape)"
      ],
      "metadata": {
        "colab": {
          "base_uri": "https://localhost:8080/"
        },
        "id": "P7UR8RlNWt1J",
        "outputId": "cfbb96bb-0e57-477d-f5bf-eba8d587334b"
      },
      "execution_count": 10,
      "outputs": [
        {
          "output_type": "stream",
          "name": "stdout",
          "text": [
            "(798, 128, 128, 3)\n",
            "(798, 25)\n"
          ]
        }
      ]
    },
    {
      "cell_type": "code",
      "source": [
        "predict_x=model.predict(x,batch_size=32) \n",
        "classes_x=np.argmax(predict_x,axis=1)\n",
        "y=np.argmax(y,axis=1)"
      ],
      "metadata": {
        "colab": {
          "base_uri": "https://localhost:8080/"
        },
        "id": "2aYTuJVyW2IF",
        "outputId": "e397627e-9a30-4d9c-f84b-4ee0016066ac"
      },
      "execution_count": 11,
      "outputs": [
        {
          "output_type": "stream",
          "name": "stdout",
          "text": [
            "25/25 [==============================] - 13s 493ms/step\n"
          ]
        }
      ]
    },
    {
      "cell_type": "code",
      "source": [
        "print(classification_report(y,classes_x))"
      ],
      "metadata": {
        "colab": {
          "base_uri": "https://localhost:8080/"
        },
        "id": "zwUQ79aoW_A3",
        "outputId": "e0fdd31d-1755-4f7e-8635-7dd76c83c644"
      },
      "execution_count": 12,
      "outputs": [
        {
          "output_type": "stream",
          "name": "stdout",
          "text": [
            "              precision    recall  f1-score   support\n",
            "\n",
            "           0       0.39      0.30      0.34        50\n",
            "           1       0.86      0.50      0.63        12\n",
            "           2       0.86      0.88      0.87        34\n",
            "           3       1.00      0.47      0.64        30\n",
            "           4       1.00      0.94      0.97        18\n",
            "           5       0.50      0.08      0.14        12\n",
            "           6       0.85      0.79      0.82        29\n",
            "           7       0.76      0.79      0.78        33\n",
            "           8       0.75      1.00      0.86        12\n",
            "           9       0.96      0.98      0.97        81\n",
            "          10       0.90      0.60      0.72        43\n",
            "          11       0.99      0.94      0.96        79\n",
            "          12       0.29      0.11      0.16        18\n",
            "          13       0.95      0.91      0.93        67\n",
            "          14       0.45      0.75      0.57        20\n",
            "          15       0.64      0.95      0.76        22\n",
            "          16       0.59      0.84      0.69        49\n",
            "          17       0.42      0.73      0.53        37\n",
            "          18       0.36      0.29      0.32        17\n",
            "          19       0.78      0.75      0.76        28\n",
            "          20       0.67      1.00      0.81        31\n",
            "          21       0.86      1.00      0.92         6\n",
            "          22       0.93      0.82      0.87        34\n",
            "          23       0.65      0.61      0.63        18\n",
            "          24       0.89      0.44      0.59        18\n",
            "\n",
            "    accuracy                           0.75       798\n",
            "   macro avg       0.73      0.70      0.69       798\n",
            "weighted avg       0.77      0.75      0.74       798\n",
            "\n"
          ]
        }
      ]
    }
  ]
}